{
  "nbformat": 4,
  "nbformat_minor": 0,
  "metadata": {
    "colab": {
      "name": "004P - Regresion Polinomica.ipynb",
      "provenance": []
    },
    "kernelspec": {
      "name": "python3",
      "display_name": "Python 3"
    },
    "language_info": {
      "name": "python"
    }
  },
  "cells": [
    {
      "cell_type": "code",
      "metadata": {
        "id": "5-tzkNiOmSsG"
      },
      "source": [
        "import numpy as np\n",
        "import pandas as pd\n",
        "import matplotlib.pyplot as plt"
      ],
      "execution_count": null,
      "outputs": []
    },
    {
      "cell_type": "code",
      "metadata": {
        "colab": {
          "base_uri": "https://localhost:8080/",
          "height": 204
        },
        "id": "p4JPJR4BqYCl",
        "outputId": "0d4f6c14-ed96-430e-f801-b9d38450baf4"
      },
      "source": [
        "data = pd.read_csv('/content/sample_data/Position_Salaries.csv') \n",
        "data.head()"
      ],
      "execution_count": null,
      "outputs": [
        {
          "output_type": "execute_result",
          "data": {
            "text/html": [
              "<div>\n",
              "<style scoped>\n",
              "    .dataframe tbody tr th:only-of-type {\n",
              "        vertical-align: middle;\n",
              "    }\n",
              "\n",
              "    .dataframe tbody tr th {\n",
              "        vertical-align: top;\n",
              "    }\n",
              "\n",
              "    .dataframe thead th {\n",
              "        text-align: right;\n",
              "    }\n",
              "</style>\n",
              "<table border=\"1\" class=\"dataframe\">\n",
              "  <thead>\n",
              "    <tr style=\"text-align: right;\">\n",
              "      <th></th>\n",
              "      <th>Position</th>\n",
              "      <th>Level</th>\n",
              "      <th>Salary</th>\n",
              "    </tr>\n",
              "  </thead>\n",
              "  <tbody>\n",
              "    <tr>\n",
              "      <th>0</th>\n",
              "      <td>Business Analyst</td>\n",
              "      <td>1</td>\n",
              "      <td>45000</td>\n",
              "    </tr>\n",
              "    <tr>\n",
              "      <th>1</th>\n",
              "      <td>Junior Consultant</td>\n",
              "      <td>2</td>\n",
              "      <td>50000</td>\n",
              "    </tr>\n",
              "    <tr>\n",
              "      <th>2</th>\n",
              "      <td>Senior Consultant</td>\n",
              "      <td>3</td>\n",
              "      <td>60000</td>\n",
              "    </tr>\n",
              "    <tr>\n",
              "      <th>3</th>\n",
              "      <td>Manager</td>\n",
              "      <td>4</td>\n",
              "      <td>80000</td>\n",
              "    </tr>\n",
              "    <tr>\n",
              "      <th>4</th>\n",
              "      <td>Country Manager</td>\n",
              "      <td>5</td>\n",
              "      <td>110000</td>\n",
              "    </tr>\n",
              "  </tbody>\n",
              "</table>\n",
              "</div>"
            ],
            "text/plain": [
              "            Position  Level  Salary\n",
              "0   Business Analyst      1   45000\n",
              "1  Junior Consultant      2   50000\n",
              "2  Senior Consultant      3   60000\n",
              "3            Manager      4   80000\n",
              "4    Country Manager      5  110000"
            ]
          },
          "metadata": {},
          "execution_count": 2
        }
      ]
    },
    {
      "cell_type": "code",
      "metadata": {
        "colab": {
          "base_uri": "https://localhost:8080/"
        },
        "id": "KwACh2dQqgw1",
        "outputId": "5cf4e8c5-e82f-459e-dc9e-5b52ccbec573"
      },
      "source": [
        "#Seleccionamos solo los valores quitando la posición\n",
        "X = data.iloc[:, 1:2].values#Elejimos la columna 'Level' la extraemos como una matriz y no como un arreglo\n",
        "y = data.iloc[:, -1].values#Columna 'Salary' es la columna dependiente\n",
        "print(X)\n",
        "print(y)"
      ],
      "execution_count": null,
      "outputs": [
        {
          "output_type": "stream",
          "name": "stdout",
          "text": [
            "[[ 1]\n",
            " [ 2]\n",
            " [ 3]\n",
            " [ 4]\n",
            " [ 5]\n",
            " [ 6]\n",
            " [ 7]\n",
            " [ 8]\n",
            " [ 9]\n",
            " [10]]\n",
            "[  45000   50000   60000   80000  110000  150000  200000  300000  500000\n",
            " 1000000]\n"
          ]
        }
      ]
    },
    {
      "cell_type": "code",
      "metadata": {
        "id": "g7LfHCH1rlmG"
      },
      "source": [
        "#No dividiremos los datos en los dos conjuntos porque son muy pocos y los podemos utilizar todos\n",
        "\n",
        "#Ajustar la regresión lineal con el dataset\n",
        "from sklearn.linear_model import LinearRegression\n",
        "lin_regression = LinearRegression()\n",
        "lin_regression.fit(X, y)\n",
        "\n",
        "#Ajustar la regresión polinómica con el dataset\n",
        "from sklearn.preprocessing import PolynomialFeatures\n",
        "poly_reg = PolynomialFeatures(degree = 4) #Regresión polinómica de grado dos\n",
        "X_poly = poly_reg.fit_transform(X) #Transformación polinómica"
      ],
      "execution_count": null,
      "outputs": []
    },
    {
      "cell_type": "code",
      "metadata": {
        "colab": {
          "base_uri": "https://localhost:8080/"
        },
        "id": "5hVPTsCitZOi",
        "outputId": "a9547be3-d515-48a9-e7d1-46cf6df2d914"
      },
      "source": [
        "print(X)\n",
        "print(X_poly)"
      ],
      "execution_count": null,
      "outputs": [
        {
          "output_type": "stream",
          "name": "stdout",
          "text": [
            "[[ 1]\n",
            " [ 2]\n",
            " [ 3]\n",
            " [ 4]\n",
            " [ 5]\n",
            " [ 6]\n",
            " [ 7]\n",
            " [ 8]\n",
            " [ 9]\n",
            " [10]]\n",
            "[[1.000e+00 1.000e+00 1.000e+00 1.000e+00 1.000e+00]\n",
            " [1.000e+00 2.000e+00 4.000e+00 8.000e+00 1.600e+01]\n",
            " [1.000e+00 3.000e+00 9.000e+00 2.700e+01 8.100e+01]\n",
            " [1.000e+00 4.000e+00 1.600e+01 6.400e+01 2.560e+02]\n",
            " [1.000e+00 5.000e+00 2.500e+01 1.250e+02 6.250e+02]\n",
            " [1.000e+00 6.000e+00 3.600e+01 2.160e+02 1.296e+03]\n",
            " [1.000e+00 7.000e+00 4.900e+01 3.430e+02 2.401e+03]\n",
            " [1.000e+00 8.000e+00 6.400e+01 5.120e+02 4.096e+03]\n",
            " [1.000e+00 9.000e+00 8.100e+01 7.290e+02 6.561e+03]\n",
            " [1.000e+00 1.000e+01 1.000e+02 1.000e+03 1.000e+04]]\n"
          ]
        }
      ]
    },
    {
      "cell_type": "code",
      "metadata": {
        "colab": {
          "base_uri": "https://localhost:8080/"
        },
        "id": "Ch6eZvhHtc4N",
        "outputId": "713ed08a-c253-4cdd-8d33-0a6b215d0dda"
      },
      "source": [
        "lin_reg_2 = LinearRegression()\n",
        "lin_reg_2.fit(X_poly, y)"
      ],
      "execution_count": null,
      "outputs": [
        {
          "output_type": "execute_result",
          "data": {
            "text/plain": [
              "LinearRegression(copy_X=True, fit_intercept=True, n_jobs=None, normalize=False)"
            ]
          },
          "metadata": {},
          "execution_count": 19
        }
      ]
    },
    {
      "cell_type": "code",
      "metadata": {
        "colab": {
          "base_uri": "https://localhost:8080/",
          "height": 296
        },
        "id": "yOKerKi4uD-F",
        "outputId": "31544d26-29cd-44b9-f5cc-b22ce3e00af9"
      },
      "source": [
        "#Visualización de los resultados del Modelo Lineal\n",
        "plt.scatter(X, y, color = \"red\")\n",
        "plt.plot(X, lin_regression.predict(X), color = \"blue\")\n",
        "plt.title(\"Modelo de regresión Lineal\")\n",
        "plt.xlabel(\"Posición del empleado\")\n",
        "plt.ylabel(\"Sueldo en $\")\n",
        "plt.show()\n"
      ],
      "execution_count": null,
      "outputs": [
        {
          "output_type": "display_data",
          "data": {
            "image/png": "[encoded data removed]",
            "text/plain": [
              "<Figure size 432x288 with 1 Axes>"
            ]
          },
          "metadata": {
            "needs_background": "light"
          }
        }
      ]
    },
    {
      "cell_type": "code",
      "metadata": {
        "colab": {
          "base_uri": "https://localhost:8080/",
          "height": 296
        },
        "id": "sYLOuBf6umzK",
        "outputId": "1c6f7e09-4100-475c-99fe-39a76b602e51"
      },
      "source": [
        "#Visualización de los resultados del Modelo Polinómico\n",
        "X_grid = np.arange(min(X), max(X), 0.1) #Suavizar más la gráfica\n",
        "X_grid = X_grid.reshape(len(X_grid), 1) #Cambiar el orden ahora pasa a ser una matriz\n",
        "plt.scatter(X, y, color = \"red\")\n",
        "plt.plot(X_grid, lin_reg_2.predict(poly_reg.fit_transform(X_grid)), color = \"blue\")\n",
        "plt.title(\"Modelo de regresión Polinómica\")\n",
        "plt.xlabel(\"Posición del empleado\")\n",
        "plt.ylabel(\"Sueldo en $\")\n",
        "plt.show()"
      ],
      "execution_count": null,
      "outputs": [
        {
          "output_type": "display_data",
          "data": {
            "image/png": "[encoded data removed]",
            "text/plain": [
              "<Figure size 432x288 with 1 Axes>"
            ]
          },
          "metadata": {
            "needs_background": "light"
          }
        }
      ]
    },
    {
      "cell_type": "code",
      "metadata": {
        "colab": {
          "base_uri": "https://localhost:8080/"
        },
        "id": "b4BqdJAOvhzc",
        "outputId": "06ef4de2-02c4-4081-dd6b-e3570f95d42c"
      },
      "source": [
        "#Predicción de nuestros modelos\n",
        "lin_regression.predict([[6.5]])"
      ],
      "execution_count": null,
      "outputs": [
        {
          "output_type": "execute_result",
          "data": {
            "text/plain": [
              "array([330378.78787879])"
            ]
          },
          "metadata": {},
          "execution_count": 26
        }
      ]
    },
    {
      "cell_type": "code",
      "metadata": {
        "colab": {
          "base_uri": "https://localhost:8080/"
        },
        "id": "PGXQLrmxyAFg",
        "outputId": "8974e93a-8f8a-49f0-d5af-14b6b8b4b250"
      },
      "source": [
        "lin_reg_2.predict(poly_reg.fit_transform([[6.5]]))"
      ],
      "execution_count": null,
      "outputs": [
        {
          "output_type": "execute_result",
          "data": {
            "text/plain": [
              "array([158862.45265155])"
            ]
          },
          "metadata": {},
          "execution_count": 27
        }
      ]
    },
    {
      "cell_type": "code",
      "metadata": {
        "id": "uQrQWO5ayTRZ"
      },
      "source": [
        ""
      ],
      "execution_count": null,
      "outputs": []
    }
  ]
}